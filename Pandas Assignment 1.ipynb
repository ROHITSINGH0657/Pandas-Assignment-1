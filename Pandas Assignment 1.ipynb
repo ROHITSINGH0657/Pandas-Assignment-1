{
 "cells": [
  {
   "cell_type": "code",
   "execution_count": null,
   "id": "a26f59e0-f063-4441-af46-5b786cf68144",
   "metadata": {},
   "outputs": [],
   "source": [
    "Q1. Create a Pandas Series that contains the following data: 4, 8, 15, 16, 23, and 42. Then, print the series.\n",
    "Ans - "
   ]
  },
  {
   "cell_type": "code",
   "execution_count": 1,
   "id": "ccd07f9e-393b-4717-be5f-7fd73c1058e1",
   "metadata": {},
   "outputs": [],
   "source": [
    "import pandas as pd\n",
    "import numpy as np"
   ]
  },
  {
   "cell_type": "code",
   "execution_count": 3,
   "id": "c1df0a38-ccc0-42cb-beec-9ca551a07261",
   "metadata": {},
   "outputs": [],
   "source": [
    "data = np.array([4,8,15,16,23,42])"
   ]
  },
  {
   "cell_type": "code",
   "execution_count": 4,
   "id": "57d6ffce-d50e-445b-a0d3-842a884d1300",
   "metadata": {},
   "outputs": [
    {
     "data": {
      "text/plain": [
       "0     4\n",
       "1     8\n",
       "2    15\n",
       "3    16\n",
       "4    23\n",
       "5    42\n",
       "dtype: int64"
      ]
     },
     "execution_count": 4,
     "metadata": {},
     "output_type": "execute_result"
    }
   ],
   "source": [
    "pd.Series(data)"
   ]
  },
  {
   "cell_type": "code",
   "execution_count": null,
   "id": "d0d1e9b4-b039-4ca3-9cf3-7a48b7fbbcbb",
   "metadata": {},
   "outputs": [],
   "source": [
    "Q2. Create a variable of list type containing 10 elements in it, and apply pandas.Series function on the\n",
    "variable print it.\n",
    "Ans-"
   ]
  },
  {
   "cell_type": "code",
   "execution_count": null,
   "id": "81604cab-5f39-4b27-a29f-38bed03f383c",
   "metadata": {},
   "outputs": [],
   "source": [
    "import pandas as pd"
   ]
  },
  {
   "cell_type": "code",
   "execution_count": 10,
   "id": "bedab5f4-cbc9-452d-a1df-e540cc3951d7",
   "metadata": {},
   "outputs": [
    {
     "name": "stdout",
     "output_type": "stream",
     "text": [
      "0        a\n",
      "1        b\n",
      "2       44\n",
      "3       21\n",
      "4      Ram\n",
      "5    Rohit\n",
      "6        r\n",
      "7       35\n",
      "8       10\n",
      "9     Amit\n",
      "dtype: object\n"
     ]
    }
   ],
   "source": [
    "S = pd.Series(['a','b',44,21,'Ram','Rohit','r',35,10,'Amit'])\n",
    "print(S)"
   ]
  },
  {
   "cell_type": "code",
   "execution_count": null,
   "id": "e3ef0e3f-5b3b-4aa3-8808-9157b81a44dd",
   "metadata": {},
   "outputs": [],
   "source": [
    "Q3. Create a Pandas DataFrame that contains the following data?\n",
    "Then, print the DataFrame.\n",
    "Ans-"
   ]
  },
  {
   "cell_type": "code",
   "execution_count": 17,
   "id": "6fb28f53-b088-47cc-bfe3-f635beb7203a",
   "metadata": {},
   "outputs": [
    {
     "name": "stdout",
     "output_type": "stream",
     "text": [
      "     Name  Age  Gender\n",
      "0   Alice   25  Female\n",
      "1     Bob   30    Male\n",
      "2  Claire   27  Female\n"
     ]
    }
   ],
   "source": [
    "Data = {'Name':  [\"Alice\", \"Bob\",\"Claire\"], 'Age' :[25,30,27], 'Gender' : [\"Female\",\"Male\",\"Female\"]}\n",
    "\n",
    "df = pd.DataFrame(Data)\n",
    "print(df)"
   ]
  },
  {
   "cell_type": "code",
   "execution_count": null,
   "id": "a62b5936-69a1-43d2-b13d-365271c42367",
   "metadata": {},
   "outputs": [],
   "source": [
    "Q4. What is ‘DataFrame’ in pandas and how is it different from pandas.series? Explain with an example?\n",
    "Ans - Pandas is a data manipulation module. DataFrame let you store tabular data in Python.\n",
    "The DataFrame lets you easily store and manipulate tabular data like rows and columns.\n",
    "1)Series are 1-D, whereas Dataframe are 2-D. 2)Series consists of homogeneous data, whereas dataframe consists of heterogeneous data. \n",
    "3)series are value mutable whereas dataframe are not."
   ]
  },
  {
   "cell_type": "code",
   "execution_count": null,
   "id": "8bc8a404-9844-4f6e-8755-252f497ccaf4",
   "metadata": {},
   "outputs": [],
   "source": [
    "Q5. What are some common functions you can use to manipulate data in a Pandas DataFrame? Can\n",
    "you give an example of when you might use one of these functions?\n",
    "Ans - Some Common function that are use in pandas dataframe:-\n",
    "1) to_datetime() \n",
    "2) Pandas apply()\n",
    "3) use map()"
   ]
  },
  {
   "cell_type": "code",
   "execution_count": null,
   "id": "3ef57374-5953-4b65-9a17-e6d294e65ae2",
   "metadata": {},
   "outputs": [],
   "source": [
    "Q6. Which of the following is mutable in nature Series, DataFrame, Panel?\n",
    "Ans - DaraFrame is mutable in Nature."
   ]
  },
  {
   "cell_type": "code",
   "execution_count": null,
   "id": "aae0bdbd-75ce-4b4c-8884-25582af783fa",
   "metadata": {},
   "outputs": [],
   "source": [
    "Q7. Create a DataFrame using multiple Series. Explain with an example.\n",
    "Ans - We have created two lists ‘author’ and article’ which have been passed to pd.Series() functions to create two Series. After creating the Series,\n",
    "we created a dictionary and passed Series objects as values of the dictionary, and the keys of the dictionary will be served as Columns of the Dataframe."
   ]
  },
  {
   "cell_type": "code",
   "execution_count": 18,
   "id": "87f4e723-7f11-4fd0-b6fe-dd3a668b23e3",
   "metadata": {},
   "outputs": [
    {
     "name": "stdout",
     "output_type": "stream",
     "text": [
      "     Author  Article\n",
      "0  Jitender      210\n",
      "1   Purnima      211\n",
      "2     Arpit      114\n",
      "3     Jyoti      178\n"
     ]
    }
   ],
   "source": [
    "\n",
    "import pandas as pd\n",
    " \n",
    "# Creating two lists\n",
    "author = ['Jitender', 'Purnima',\n",
    "          'Arpit', 'Jyoti']\n",
    "article = [210, 211, 114, 178]\n",
    " \n",
    "\n",
    "auth_series = pd.Series(author)\n",
    "article_series = pd.Series(article)\n",
    " \n",
    "\n",
    "frame = {'Author': auth_series,\n",
    "         'Article': article_series}\n",
    " \n",
    "result = pd.DataFrame(frame)\n",
    " \n",
    "print(result)"
   ]
  },
  {
   "cell_type": "code",
   "execution_count": null,
   "id": "c4f3c2fb-a8af-456d-8bef-78d75454b168",
   "metadata": {},
   "outputs": [],
   "source": []
  }
 ],
 "metadata": {
  "kernelspec": {
   "display_name": "Python 3 (ipykernel)",
   "language": "python",
   "name": "python3"
  },
  "language_info": {
   "codemirror_mode": {
    "name": "ipython",
    "version": 3
   },
   "file_extension": ".py",
   "mimetype": "text/x-python",
   "name": "python",
   "nbconvert_exporter": "python",
   "pygments_lexer": "ipython3",
   "version": "3.10.8"
  }
 },
 "nbformat": 4,
 "nbformat_minor": 5
}
